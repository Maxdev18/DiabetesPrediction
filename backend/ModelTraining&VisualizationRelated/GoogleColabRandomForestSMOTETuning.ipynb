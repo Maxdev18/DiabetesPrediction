{
  "cells": [
    {
      "cell_type": "code",
      "execution_count": null,
      "metadata": {
        "id": "fyCwW3ZvfJwY"
      },
      "outputs": [],
      "source": [
        "import pandas as pd\n",
        "from sklearn.model_selection import GridSearchCV\n",
        "from sklearn.ensemble import RandomForestClassifier\n",
        "from sklearn.metrics import classification_report, precision_recall_fscore_support\n",
        "from imblearn.over_sampling import SMOTE"
      ]
    },
    {
      "cell_type": "code",
      "execution_count": null,
      "metadata": {
        "colab": {
          "base_uri": "https://localhost:8080/"
        },
        "id": "154uYhcPeDRF",
        "outputId": "c33aa15f-f6f0-473f-ef9f-5bc398b4a57c"
      },
      "outputs": [
        {
          "output_type": "stream",
          "name": "stdout",
          "text": [
            "Mounted at /content/drive\n"
          ]
        }
      ],
      "source": [
        "from google.colab import drive\n",
        "drive.mount('/content/drive')\n"
      ]
    },
    {
      "cell_type": "code",
      "execution_count": null,
      "metadata": {
        "id": "p89g_Ri6eue5"
      },
      "outputs": [],
      "source": [
        "# Load the dataset\n",
        "file_path = '/content/drive/MyDrive/MyDatasets/filtered_normalized_data_replace2to1.csv'\n",
        "df = pd.read_csv(file_path)\n"
      ]
    },
    {
      "cell_type": "code",
      "execution_count": null,
      "metadata": {
        "id": "fGP8H6YqfRPJ"
      },
      "outputs": [],
      "source": [
        "X = df.drop('Diabetes_012', axis=1).values\n",
        "y = df['Diabetes_012'].values\n",
        "#SMOTE\n",
        "smote = SMOTE(sampling_strategy='auto', random_state=42)\n",
        "X_resampled, y_resampled = smote.fit_resample(X, y)\n",
        "\n",
        "clf = RandomForestClassifier()"
      ]
    },
    {
      "cell_type": "code",
      "execution_count": null,
      "metadata": {
        "id": "bSpyj4CWfWXv"
      },
      "outputs": [],
      "source": [
        "#NOT USED TOO LONG TIME\n",
        "# # Create the parameter grid based on insights\n",
        "# param_grid = {\n",
        "#     'n_estimators': [50, 100, 200],\n",
        "#     'max_features': ['auto', 'sqrt', 0.2, 0.5, 0.8],\n",
        "#     'max_depth': [10, 20, 30, None],\n",
        "#     'min_samples_split': [2, 5, 10],\n",
        "#     'min_samples_leaf': [1, 2, 4],\n",
        "#     'bootstrap': [True, False]\n",
        "# }\n",
        "\n",
        "# # Initialize GridSearchCV\n",
        "# grid_search = GridSearchCV(estimator=clf, param_grid=param_grid, cv=5, verbose=2, n_jobs=-1)\n",
        "\n",
        "# # Fit the model\n",
        "# grid_search.fit(X_resampled, y_resampled)\n",
        "\n",
        "# # Get the best parameters\n",
        "# best_params = grid_search.best_params_\n"
      ]
    },
    {
      "cell_type": "code",
      "execution_count": null,
      "metadata": {
        "colab": {
          "background_save": true,
          "base_uri": "https://localhost:8080/"
        },
        "id": "gKwZcaOzw2Ks",
        "outputId": "5a9ebe58-64b3-4028-84a6-d23aef99f83d"
      },
      "outputs": [
        {
          "name": "stdout",
          "output_type": "stream",
          "text": [
            "Fitting 5 folds for each of 15 candidates, totalling 75 fits\n"
          ]
        },
        {
          "name": "stderr",
          "output_type": "stream",
          "text": [
            "/usr/local/lib/python3.10/dist-packages/joblib/externals/loky/process_executor.py:752: UserWarning: A worker stopped while some jobs were given to the executor. This can be caused by a too short worker timeout or by a memory leak.\n",
            "  warnings.warn(\n"
          ]
        },
        {
          "name": "stdout",
          "output_type": "stream",
          "text": [
            "Best parameters for section 1: {'max_features': 0.2, 'n_estimators': 200}\n"
          ]
        }
      ],
      "source": [
        "# First set of parameter grid\n",
        "param_grid1 = {\n",
        "    'n_estimators': [50, 100, 200],\n",
        "    'max_features': ['auto', 'sqrt', 0.2, 0.5, 0.8]\n",
        "}\n",
        "\n",
        "# Initialize GridSearchCV\n",
        "grid_search1 = GridSearchCV(estimator=clf, param_grid=param_grid1, cv=5, verbose=2, n_jobs=-1)\n",
        "\n",
        "# Fit the model\n",
        "grid_search1.fit(X_resampled, y_resampled)\n",
        "\n",
        "# Get the best parameters\n",
        "best_params1 = grid_search1.best_params_\n",
        "\n",
        "print(\"Best parameters for section 1:\", best_params1)\n"
      ]
    },
    {
      "cell_type": "code",
      "execution_count": null,
      "metadata": {
        "id": "Xja-EJY0w3vs",
        "colab": {
          "base_uri": "https://localhost:8080/"
        },
        "outputId": "9ebc17f2-1721-4c41-a511-d0a699055b6c"
      },
      "outputs": [
        {
          "metadata": {
            "tags": null
          },
          "name": "stdout",
          "output_type": "stream",
          "text": [
            "Fitting 5 folds for each of 36 candidates, totalling 180 fits\n"
          ]
        },
        {
          "metadata": {
            "tags": null
          },
          "name": "stderr",
          "output_type": "stream",
          "text": [
            "/usr/local/lib/python3.10/dist-packages/joblib/externals/loky/process_executor.py:752: UserWarning: A worker stopped while some jobs were given to the executor. This can be caused by a too short worker timeout or by a memory leak.\n",
            "  warnings.warn(\n"
          ]
        },
        {
          "output_type": "stream",
          "name": "stdout",
          "text": [
            "Best parameters for section 2: {'max_depth': None, 'min_samples_leaf': 1, 'min_samples_split': 2}\n"
          ]
        }
      ],
      "source": [
        "# Second set of parameter grid\n",
        "best_params1 = {'max_features': 0.2, 'n_estimators': 200}\n",
        "# manully get from previous\n",
        "param_grid2 = {\n",
        "    'max_depth': [10, 20, 30, None],\n",
        "    'min_samples_split': [2, 5, 10],\n",
        "    'min_samples_leaf': [1, 2, 4]\n",
        "}\n",
        "\n",
        "# Initialize GridSearchCV with best parameters from previous section\n",
        "clf.set_params(**best_params1)\n",
        "grid_search2 = GridSearchCV(estimator=clf, param_grid=param_grid2, cv=5, verbose=2, n_jobs=-1)\n",
        "\n",
        "# Fit the model\n",
        "grid_search2.fit(X_resampled, y_resampled)\n",
        "\n",
        "# Get the best parameters\n",
        "best_params2 = grid_search2.best_params_\n",
        "\n",
        "print(\"Best parameters for section 2:\", best_params2)\n"
      ]
    },
    {
      "cell_type": "code",
      "execution_count": null,
      "metadata": {
        "id": "cUrCKWQtw4_l",
        "colab": {
          "base_uri": "https://localhost:8080/"
        },
        "outputId": "6b9545a5-1a3e-4c70-cf4a-1788919843be"
      },
      "outputs": [
        {
          "output_type": "stream",
          "name": "stdout",
          "text": [
            "Fitting 5 folds for each of 2 candidates, totalling 10 fits\n",
            "Best parameters for section 3: {'bootstrap': False}\n"
          ]
        }
      ],
      "source": [
        "# Third set of parameter grid\n",
        "#best_params2 = {'max_depth': None, 'min_samples_leaf': 1, 'min_samples_split': 2}\n",
        "#manully get from previous\n",
        "param_grid3 = {\n",
        "    'bootstrap': [True, False]\n",
        "}\n",
        "\n",
        "# Initialize GridSearchCV with best parameters from previous sections\n",
        "best_params = {**best_params1, **best_params2}\n",
        "clf.set_params(**best_params)\n",
        "grid_search3 = GridSearchCV(estimator=clf, param_grid=param_grid3, cv=5, verbose=2, n_jobs=-1)\n",
        "\n",
        "# Fit the model\n",
        "grid_search3.fit(X_resampled, y_resampled)\n",
        "\n",
        "# Get the best parameters\n",
        "best_params3 = grid_search3.best_params_\n",
        "\n",
        "print(\"Best parameters for section 3:\", best_params3)\n"
      ]
    },
    {
      "cell_type": "code",
      "execution_count": null,
      "metadata": {
        "id": "157g83nuw60C",
        "colab": {
          "base_uri": "https://localhost:8080/"
        },
        "outputId": "841dd842-c856-4360-cfd4-3002b10125cd"
      },
      "outputs": [
        {
          "output_type": "stream",
          "name": "stdout",
          "text": [
            "Final Best Parameters: {'max_features': 0.2, 'n_estimators': 200, 'max_depth': None, 'min_samples_leaf': 1, 'min_samples_split': 2, 'bootstrap': False}\n"
          ]
        }
      ],
      "source": [
        "#final results\n",
        "final_best_params = {**best_params1, **best_params2, **best_params3}\n",
        "print(\"Final Best Parameters:\", final_best_params)\n"
      ]
    }
  ],
  "metadata": {
    "colab": {
      "provenance": []
    },
    "kernelspec": {
      "display_name": "Python 3",
      "name": "python3"
    },
    "language_info": {
      "name": "python"
    }
  },
  "nbformat": 4,
  "nbformat_minor": 0
}